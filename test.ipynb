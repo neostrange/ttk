{
 "cells": [
  {
   "cell_type": "code",
   "execution_count": 1,
   "metadata": {},
   "outputs": [
    {
     "name": "stderr",
     "output_type": "stream",
     "text": [
      "/home/neo/.local/lib/python3.8/site-packages/tqdm/auto.py:22: TqdmWarning: IProgress not found. Please update jupyter and ipywidgets. See https://ipywidgets.readthedocs.io/en/stable/user_install.html\n",
      "  from .autonotebook import tqdm as notebook_tqdm\n"
     ]
    },
    {
     "ename": "OSError",
     "evalue": "[E050] Can't find model 'en_core_web_sm'. It doesn't seem to be a Python package or a valid path to a data directory.",
     "output_type": "error",
     "traceback": [
      "\u001b[0;31m---------------------------------------------------------------------------\u001b[0m",
      "\u001b[0;31mOSError\u001b[0m                                   Traceback (most recent call last)",
      "Cell \u001b[0;32mIn [1], line 14\u001b[0m\n\u001b[1;32m      1\u001b[0m text \u001b[39m=\u001b[39m \u001b[39m\"\"\"\u001b[39m\n\u001b[1;32m      2\u001b[0m \n\u001b[1;32m      3\u001b[0m \u001b[39mThe biggest U.S. stock market index, the Dow Jones, plunged by more than 416 points by the closing bell on Tuesday, the worst single-day decline since the re-opening of the markets following the September 11th terrorist attacks. The slip followed a 9\u001b[39m\u001b[39m% s\u001b[39;00m\u001b[39mell-off in Chinese markets. Other stock indices, such as the Nasdaq and the S&amp;P 500, dipped by 96 points and 50 points, respectively. It was the 7th largest single-day decline is U.S. history.\u001b[39m\n\u001b[0;32m   (...)\u001b[0m\n\u001b[1;32m     10\u001b[0m \n\u001b[1;32m     11\u001b[0m \u001b[39m\"\"\"\u001b[39m\n\u001b[1;32m     13\u001b[0m \u001b[39mimport\u001b[39;00m \u001b[39mspacy\u001b[39;00m\n\u001b[0;32m---> 14\u001b[0m nlp\u001b[39m=\u001b[39mspacy\u001b[39m.\u001b[39;49mload(\u001b[39m\"\u001b[39;49m\u001b[39men_core_web_sm\u001b[39;49m\u001b[39m\"\u001b[39;49m)\n\u001b[1;32m     15\u001b[0m doc\u001b[39m=\u001b[39mnlp(text)\n\u001b[1;32m     17\u001b[0m i\u001b[39m=\u001b[39m\u001b[39m0\u001b[39m\n",
      "File \u001b[0;32m~/.local/lib/python3.8/site-packages/spacy/__init__.py:51\u001b[0m, in \u001b[0;36mload\u001b[0;34m(name, vocab, disable, exclude, config)\u001b[0m\n\u001b[1;32m     30\u001b[0m \u001b[39mdef\u001b[39;00m \u001b[39mload\u001b[39m(\n\u001b[1;32m     31\u001b[0m     name: Union[\u001b[39mstr\u001b[39m, Path],\n\u001b[1;32m     32\u001b[0m     \u001b[39m*\u001b[39m,\n\u001b[0;32m   (...)\u001b[0m\n\u001b[1;32m     36\u001b[0m     config: Union[Dict[\u001b[39mstr\u001b[39m, Any], Config] \u001b[39m=\u001b[39m util\u001b[39m.\u001b[39mSimpleFrozenDict(),\n\u001b[1;32m     37\u001b[0m ) \u001b[39m-\u001b[39m\u001b[39m>\u001b[39m Language:\n\u001b[1;32m     38\u001b[0m     \u001b[39m\"\"\"Load a spaCy model from an installed package or a local path.\u001b[39;00m\n\u001b[1;32m     39\u001b[0m \n\u001b[1;32m     40\u001b[0m \u001b[39m    name (str): Package name or model path.\u001b[39;00m\n\u001b[0;32m   (...)\u001b[0m\n\u001b[1;32m     49\u001b[0m \u001b[39m    RETURNS (Language): The loaded nlp object.\u001b[39;00m\n\u001b[1;32m     50\u001b[0m \u001b[39m    \"\"\"\u001b[39;00m\n\u001b[0;32m---> 51\u001b[0m     \u001b[39mreturn\u001b[39;00m util\u001b[39m.\u001b[39;49mload_model(\n\u001b[1;32m     52\u001b[0m         name, vocab\u001b[39m=\u001b[39;49mvocab, disable\u001b[39m=\u001b[39;49mdisable, exclude\u001b[39m=\u001b[39;49mexclude, config\u001b[39m=\u001b[39;49mconfig\n\u001b[1;32m     53\u001b[0m     )\n",
      "File \u001b[0;32m~/.local/lib/python3.8/site-packages/spacy/util.py:427\u001b[0m, in \u001b[0;36mload_model\u001b[0;34m(name, vocab, disable, exclude, config)\u001b[0m\n\u001b[1;32m    425\u001b[0m \u001b[39mif\u001b[39;00m name \u001b[39min\u001b[39;00m OLD_MODEL_SHORTCUTS:\n\u001b[1;32m    426\u001b[0m     \u001b[39mraise\u001b[39;00m \u001b[39mIOError\u001b[39;00m(Errors\u001b[39m.\u001b[39mE941\u001b[39m.\u001b[39mformat(name\u001b[39m=\u001b[39mname, full\u001b[39m=\u001b[39mOLD_MODEL_SHORTCUTS[name]))  \u001b[39m# type: ignore[index]\u001b[39;00m\n\u001b[0;32m--> 427\u001b[0m \u001b[39mraise\u001b[39;00m \u001b[39mIOError\u001b[39;00m(Errors\u001b[39m.\u001b[39mE050\u001b[39m.\u001b[39mformat(name\u001b[39m=\u001b[39mname))\n",
      "\u001b[0;31mOSError\u001b[0m: [E050] Can't find model 'en_core_web_sm'. It doesn't seem to be a Python package or a valid path to a data directory."
     ]
    }
   ],
   "source": [
    "text = \"\"\"\n",
    "\n",
    "The biggest U.S. stock market index, the Dow Jones, plunged by more than 416 points by the closing bell on Tuesday, the worst single-day decline since the re-opening of the markets following the September 11th terrorist attacks. The slip followed a 9% sell-off in Chinese markets. Other stock indices, such as the Nasdaq and the S&amp;P 500, dipped by 96 points and 50 points, respectively. It was the 7th largest single-day decline is U.S. history.\n",
    "\n",
    "Analysts blamed the slide on a number of factors: (1) U.S. and Chinese stock exchanges had powered upward for too long and were due for a significant correction; (2) inflation and the prices of bonds and equities had become too high; (3) the U.S. is headed for an economic recession. Alan Greenspan indicated on Monday that the U.S. economy would not sustain its recent growth, where the Dow Industrials set day-to-day records and the White House signaled on Tuesday that it would revise its estimate of fourth-quarter 2006 GDP growth down to an annual rate of about 2.3 percent from an initial forecast of 3.5 percent and was increasingly nervous that the figure could come in even lower.\n",
    "\n",
    "Around 3 p.m. EST, Reuters reported that the New York Stock Exchange had implemented on-floor tradition restrictions meant to curb the sell off.\n",
    "\n",
    "The decline also occurred on the day that a plot to assassinate U.S. Vice President Richard Cheney failed in Afghanistan.\n",
    "\n",
    "\"\"\"\n",
    "\n",
    "import spacy\n",
    "nlp=spacy.load(\"en_core_web_sm\")\n",
    "doc=nlp(text)\n",
    "\n",
    "i=0\n",
    "\n",
    "\n",
    "for sent in doc.sents:\n",
    "    print(sent.start,\" : \", sent.text)"
   ]
  },
  {
   "cell_type": "code",
   "execution_count": 2,
   "metadata": {},
   "outputs": [
    {
     "name": "stdout",
     "output_type": "stream",
     "text": [
      "/home/neo/.local/lib/python3.8/site-packages/pkg_resources/__init__.py:123: PkgResourcesDeprecationWarning: 0.23ubuntu1 is an invalid version and will not be supported in a future release\n",
      "  warnings.warn(\n",
      "/home/neo/.local/lib/python3.8/site-packages/pkg_resources/__init__.py:123: PkgResourcesDeprecationWarning: 0.1.36ubuntu1 is an invalid version and will not be supported in a future release\n",
      "  warnings.warn(\n",
      "Name: spacy\n",
      "Version: 3.3.1\n",
      "Summary: Industrial-strength Natural Language Processing (NLP) in Python\n",
      "Home-page: https://spacy.io\n",
      "Author: Explosion\n",
      "Author-email: contact@explosion.ai\n",
      "License: MIT\n",
      "Location: /home/neo/.local/lib/python3.8/site-packages\n",
      "Requires: spacy-legacy, spacy-loggers, murmurhash, cymem, preshed, thinc, blis, wasabi, srsly, catalogue, typer, pathy, tqdm, numpy, requests, pydantic, jinja2, setuptools, packaging, langcodes\n",
      "Required-by: coreferee, spacy-transformers\n"
     ]
    }
   ],
   "source": [
    "!pip show spacy\n"
   ]
  },
  {
   "cell_type": "code",
   "execution_count": 10,
   "metadata": {},
   "outputs": [
    {
     "name": "stdout",
     "output_type": "stream",
     "text": [
      "1_20070810.xml\n",
      "filename:  1\n",
      "timex 20070810\n"
     ]
    },
    {
     "name": "stderr",
     "output_type": "stream",
     "text": [
      "\n",
      "WARNING\n",
      "   0 errors and 10 warnings were reported\n",
      "   see data/logs/ttk_log.html for details\n",
      "\n",
      ")"
     ]
    }
   ],
   "source": [
    "import os\n",
    "\n",
    "# List all files in a directory using os.listdir\n",
    "basepath = 'data/text2graph'\n",
    "for entry in os.listdir(basepath):\n",
    "    if os.path.isfile(os.path.join(basepath, entry)):\n",
    "        print(entry)\n",
    "        split_entry= entry.split('_')\n",
    "        filename = split_entry[0]\n",
    "        timex = split_entry[1].split('.')[0]\n",
    "        print(\"filename: \" , filename)\n",
    "        print(\"timex\", timex)\n",
    "\n",
    "        # compose the command to run\n",
    "        command = '../venv/bin/python tarsqi.py --dct ' + timex +' data/text2graph/'+entry+' ' + filename+'.xml'\n",
    "        stream = os.popen(command) "
   ]
  }
 ],
 "metadata": {
  "kernelspec": {
   "display_name": "Python 3.8.10 64-bit",
   "language": "python",
   "name": "python3"
  },
  "language_info": {
   "codemirror_mode": {
    "name": "ipython",
    "version": 3
   },
   "file_extension": ".py",
   "mimetype": "text/x-python",
   "name": "python",
   "nbconvert_exporter": "python",
   "pygments_lexer": "ipython3",
   "version": "3.8.10"
  },
  "orig_nbformat": 4,
  "vscode": {
   "interpreter": {
    "hash": "916dbcbb3f70747c44a77c7bcd40155683ae19c65e1c03b4aa3499c5328201f1"
   }
  }
 },
 "nbformat": 4,
 "nbformat_minor": 2
}
